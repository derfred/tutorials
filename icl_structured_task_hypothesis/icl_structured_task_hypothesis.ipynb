{
 "cells": [
  {
   "cell_type": "code",
   "execution_count": 2,
   "metadata": {},
   "outputs": [],
   "source": [
    "%load_ext autoreload\n",
    "%autoreload 2\n",
    "%matplotlib inline"
   ]
  },
  {
   "cell_type": "code",
   "execution_count": 3,
   "metadata": {},
   "outputs": [],
   "source": [
    "import random, mlx_lm, math, scipy, pickle, os, sys, sklearn.linear_model, json\n",
    "from dataclasses import dataclass\n",
    "from tqdm import tqdm\n",
    "\n",
    "import numpy as np\n",
    "import pandas as pd\n",
    "import seaborn as sns\n",
    "import matplotlib.pyplot as plt\n",
    "\n",
    "import mlx.core as mx\n",
    "import mlx.nn as nn\n",
    "import mlx.optimizers as optim\n",
    "\n",
    "from datasets import load_dataset\n",
    "from sklearn.metrics import f1_score\n",
    "\n",
    "sys.path.insert(0, os.path.join(os.getcwd(), \"..\", \"support\"))\n",
    "import gemma2"
   ]
  },
  {
   "cell_type": "markdown",
   "metadata": {},
   "source": [
    "# Setup"
   ]
  },
  {
   "cell_type": "code",
   "execution_count": 4,
   "metadata": {},
   "outputs": [
    {
     "data": {
      "application/vnd.jupyter.widget-view+json": {
       "model_id": "8eb87091378e4719ba9a9fb96ebbc3fd",
       "version_major": 2,
       "version_minor": 0
      },
      "text/plain": [
       "Fetching 7 files:   0%|          | 0/7 [00:00<?, ?it/s]"
      ]
     },
     "metadata": {},
     "output_type": "display_data"
    }
   ],
   "source": [
    "model, tokenizer = gemma2.load()"
   ]
  },
  {
   "cell_type": "markdown",
   "metadata": {},
   "source": [
    "# Introduction"
   ]
  },
  {
   "cell_type": "markdown",
   "metadata": {},
   "source": [
    "This tutorial is based on Li et al. \"What do Language Models Learn in Context? The Structured Task Hypothesis\" (https://arxiv.org/abs/2406.04216)"
   ]
  },
  {
   "cell_type": "markdown",
   "metadata": {},
   "source": [
    "# Testing the Hypotheses"
   ]
  },
  {
   "cell_type": "code",
   "execution_count": 46,
   "metadata": {},
   "outputs": [],
   "source": [
    "class Dataset:\n",
    "  DEFAULTS = {\n",
    "    \"sst2\":    [\"Review: \",   \"Sentiment: \",    [\"negative\", \"positive\"]],\n",
    "    \"sst5\":    [\"Review: \",   \"Sentiment: \",    [\"terrible\", \"bad\", \"okay\", \"good\", \"great\"]],\n",
    "    \"CR\":      [\"Review: \",   \"Sentiment: \",    [\"negative\", \"positive\"]],\n",
    "    \"ag_news\": [\"News: \",     \"News type: \",    [\"world\", \"sports\", \"business\", \"science\"]],\n",
    "    \"dbpedia\": [\"Article: \",  \"Article type: \", [\"company\", \"school\", \"artist\", \"player\", \"politics\", \"transport\", \"building\", \"nature\", \"village\", \"animal\", \"plant\", \"album\", \"film\", \"book\"]],\n",
    "  }\n",
    "\n",
    "  @staticmethod\n",
    "  def load(name):\n",
    "    fullname = {\n",
    "      \"sst2\":    \"SetFit/sst2\",\n",
    "      \"sst5\":    \"SetFit/sst5\",\n",
    "      \"CR\":      \"SetFit/CR\",\n",
    "      \"ag_news\": \"ag_news\",\n",
    "      \"dbpedia\": \"dbpedia_14\"\n",
    "    }[name]\n",
    "\n",
    "    return Dataset(name, load_dataset(fullname)['train'])\n",
    "\n",
    "  def __init__(self, name, ds):\n",
    "    self.name = name\n",
    "    self.ds   = ds\n",
    "    with open(\"mappings.json\", \"r\") as f:\n",
    "      self.mappings = json.load(f)[name]\n",
    "\n",
    "  @property\n",
    "  def prompt_prefix(self):\n",
    "    return self.DEFAULTS[self.name][0]\n",
    "\n",
    "  @property\n",
    "  def response_prefix(self):\n",
    "    return self.DEFAULTS[self.name][1]\n",
    "\n",
    "  @property\n",
    "  def labels(self):\n",
    "    return self.DEFAULTS[self.name][2]\n",
    "\n",
    "  def map_label(self, mapping, label=None):\n",
    "    if label is None:\n",
    "      return lambda p, r=None: self.map_label(mapping, r or p)\n",
    "    elif mapping is None:\n",
    "      return label\n",
    "    else:\n",
    "      return self.mappings[mapping][label]\n",
    "\n",
    "  def mapped_labels(self, mapping):\n",
    "    return [self.map_label(mapping, l) for l in self.labels]\n",
    "\n",
    "  def label_tokens(self, mapping=None):\n",
    "    return [tokenizer.encode(self.map_label(mapping, l), add_special_tokens=False)[0] for l in self.labels]\n",
    "\n",
    "  def build_task(self, n):\n",
    "    ds     = self.ds.shuffle()\n",
    "    data   = ds[:(n+1)]\n",
    "    labels = [self.labels[l] for l in data['label']]\n",
    "    return zip(data['text'][:-1], labels[:-1]), (data['text'][-1], labels[-1])\n",
    "  \n",
    "  def build_prompt(self, n, map_prompt=lambda p, r: p, map_response=lambda r: r):\n",
    "    demonstration, n_plus_one = self.build_task(n)\n",
    "    result = \"\\n\".join([f\"{self.prompt_prefix}{map_prompt(p, r)}\\n{self.response_prefix}{map_response(r)}\" for p, r in demonstration])\n",
    "    return result + f\"\\n{self.prompt_prefix}{map_prompt(*n_plus_one)}\\n{self.response_prefix}\", map_response(n_plus_one[1])"
   ]
  },
  {
   "cell_type": "markdown",
   "metadata": {},
   "source": [
    "## Task Selection Hypothesis"
   ]
  },
  {
   "cell_type": "code",
   "execution_count": 64,
   "metadata": {},
   "outputs": [
    {
     "name": "stderr",
     "output_type": "stream",
     "text": [
      "Repo card metadata block was not found. Setting CardData to empty.\n",
      "100%|██████████| 9/9 [1:40:54<00:00, 672.70s/it]\n",
      "Repo card metadata block was not found. Setting CardData to empty.\n",
      "100%|██████████| 9/9 [1:18:54<00:00, 526.01s/it]\n",
      "100%|██████████| 9/9 [2:49:03<00:00, 1127.11s/it]\n"
     ]
    }
   ],
   "source": [
    "def evaluate_task_selection_hypothesis(ds_name, repeats, demo_lengths=[2,3,4,5,10,15,20,30,50]):\n",
    "  def eval_for_mapping(ds, n, mapping):\n",
    "    prompt, label = ds.build_prompt(n, map_response=ds.map_label(mapping))\n",
    "\n",
    "    expected = ds.mapped_labels(mapping).index(label)\n",
    "    logits   = model(mx.array(tokenizer.encode(prompt))[None])[0, -1, ds.label_tokens(mapping)]\n",
    "    actual   = mx.argmax(logits).item()\n",
    "    return expected, actual\n",
    "\n",
    "  ds     = Dataset.load(ds_name)\n",
    "  result = []\n",
    "  for n in tqdm(demo_lengths):\n",
    "    baseline = np.array([eval_for_mapping(ds, n, None)     for _ in range(repeats)])\n",
    "    mapped   = np.array([eval_for_mapping(ds, n, \"labels\") for _ in range(repeats)])\n",
    "    result.append((n, f1_score(baseline[:, 1], baseline[:, 0], average='macro'), f1_score(mapped[:, 1], mapped[:, 0], average='macro')))\n",
    "  return np.array(result)\n",
    "\n",
    "task_selection_CR      = evaluate_task_selection_hypothesis(\"CR\", 200)\n",
    "task_selection_sst2    = evaluate_task_selection_hypothesis(\"sst2\", 200)\n",
    "task_selection_ag_news = evaluate_task_selection_hypothesis(\"ag_news\", 200)"
   ]
  },
  {
   "cell_type": "code",
   "execution_count": 65,
   "metadata": {},
   "outputs": [
    {
     "data": {
      "image/png": "[encoded data removed]",
      "text/plain": [
       "<Figure size 1500x500 with 3 Axes>"
      ]
     },
     "metadata": {},
     "output_type": "display_data"
    }
   ],
   "source": [
    "\n",
    "# Create a figure and a set of subplots\n",
    "fig, axs = plt.subplots(1, 3, figsize=(15, 5))\n",
    "\n",
    "# Plot each array in a separate subplot\n",
    "axs[0].plot(task_selection_CR[:, 0], task_selection_CR[:, 1], label='Vanilla ICL')\n",
    "axs[0].plot(task_selection_CR[:, 0], task_selection_CR[:, 2], label='Response Altered ICL')\n",
    "axs[0].set_title('Task Selection CR')\n",
    "axs[0].legend()\n",
    "\n",
    "axs[1].plot(task_selection_sst2[:, 0], task_selection_sst2[:, 1], label='Vanilla ICL')\n",
    "axs[1].plot(task_selection_sst2[:, 0], task_selection_sst2[:, 2], label='Response Altered ICL')\n",
    "axs[1].set_title('Task Selection SST-2')\n",
    "axs[1].legend()\n",
    "\n",
    "axs[2].plot(task_selection_ag_news[:, 0], task_selection_ag_news[:, 1], label='Vanilla ICL')\n",
    "axs[2].plot(task_selection_ag_news[:, 0], task_selection_ag_news[:, 2], label='Response Altered ICL')\n",
    "axs[2].set_title('Task Selection AG News')\n",
    "axs[2].legend()\n",
    "\n",
    "# Display the plot\n",
    "plt.show()"
   ]
  },
  {
   "cell_type": "markdown",
   "metadata": {},
   "source": [
    "## Meta-Learning Hypothesis"
   ]
  },
  {
   "cell_type": "markdown",
   "metadata": {},
   "source": [
    "## Experiment 1"
   ]
  },
  {
   "cell_type": "markdown",
   "metadata": {},
   "source": [
    "we now modify the prompt, but keep the response. we do the prompt modification in a learnable manner. in particular we implement a simple replacement cypher, that is for every token in the vocabulary we chooe a random other token.\n",
    "\n",
    "TODO: try this with SAE features. ie check the SAE features for a very early layer, see if there is a shuffling of tokens that preserves the relationship of features between inputs and preserves the output. switching tokens removes too much of the meaning. maybe the model can't do linear regression on random tokens, but maybe on features."
   ]
  },
  {
   "cell_type": "code",
   "execution_count": 90,
   "metadata": {},
   "outputs": [
    {
     "name": "stderr",
     "output_type": "stream",
     "text": [
      "  0%|          | 0/10 [00:00<?, ?it/s]\n"
     ]
    },
    {
     "ename": "NameError",
     "evalue": "name 'ds' is not defined",
     "output_type": "error",
     "traceback": [
      "\u001b[0;31m---------------------------------------------------------------------------\u001b[0m",
      "\u001b[0;31mNameError\u001b[0m                                 Traceback (most recent call last)",
      "Cell \u001b[0;32mIn[90], line 25\u001b[0m\n\u001b[1;32m     21\u001b[0m     \u001b[38;5;28;01mreturn\u001b[39;00m mx\u001b[38;5;241m.\u001b[39margmax(model(tokens[\u001b[38;5;28;01mNone\u001b[39;00m])[\u001b[38;5;241m0\u001b[39m, \u001b[38;5;241m-\u001b[39m\u001b[38;5;241m1\u001b[39m, labels])\u001b[38;5;241m.\u001b[39mitem(), options\u001b[38;5;241m.\u001b[39mindex(expected)\n\u001b[1;32m     23\u001b[0m   \u001b[38;5;28;01mreturn\u001b[39;00m np\u001b[38;5;241m.\u001b[39marray([eval_prompt(\u001b[38;5;241m*\u001b[39mbuild_prompt(ds\u001b[38;5;241m.\u001b[39mshuffle())) \u001b[38;5;28;01mfor\u001b[39;00m _ \u001b[38;5;129;01min\u001b[39;00m \u001b[38;5;28mrange\u001b[39m(repeats)])\n\u001b[0;32m---> 25\u001b[0m baseline \u001b[38;5;241m=\u001b[39m [eval_meta_learning(\u001b[43mds\u001b[49m, i, \u001b[38;5;241m100\u001b[39m) \u001b[38;5;28;01mfor\u001b[39;00m i \u001b[38;5;129;01min\u001b[39;00m tqdm([\u001b[38;5;241m1\u001b[39m,\u001b[38;5;241m2\u001b[39m,\u001b[38;5;241m3\u001b[39m,\u001b[38;5;241m4\u001b[39m,\u001b[38;5;241m5\u001b[39m,\u001b[38;5;241m10\u001b[39m,\u001b[38;5;241m15\u001b[39m,\u001b[38;5;241m20\u001b[39m,\u001b[38;5;241m30\u001b[39m,\u001b[38;5;241m50\u001b[39m])]\n\u001b[1;32m     26\u001b[0m plt\u001b[38;5;241m.\u001b[39mplot([f1_score(e[:, \u001b[38;5;241m1\u001b[39m], e[:, \u001b[38;5;241m0\u001b[39m], average\u001b[38;5;241m=\u001b[39m\u001b[38;5;124m'\u001b[39m\u001b[38;5;124mmacro\u001b[39m\u001b[38;5;124m'\u001b[39m) \u001b[38;5;28;01mfor\u001b[39;00m e \u001b[38;5;129;01min\u001b[39;00m baseline])\n\u001b[1;32m     27\u001b[0m plt\u001b[38;5;241m.\u001b[39mshow()\n",
      "\u001b[0;31mNameError\u001b[0m: name 'ds' is not defined"
     ]
    }
   ],
   "source": [
    "def eval_meta_learning(ds, n, repeats):\n",
    "  crypter = list(range(model.vocab_size))\n",
    "  random.shuffle(crypter)\n",
    "  for t in ds.label_tokens():\n",
    "    crypter[t] = t\n",
    "\n",
    "  def eval_prompt():\n",
    "    prompt, label = ds.build_prompt(n)\n",
    "\n",
    "    expected = ds.labels.index(label)\n",
    "    tokens   = mx.array([crypter[t] for t in tokenizer.encode(prompt)])\n",
    "    logits   = model(mx.array(tokenizer.encode(prompt))[None])[0, -1, ds.label_tokens()]\n",
    "    actual   = mx.argmax(logits).item()\n",
    "    return expected, actual\n",
    "\n",
    "  return np.array([eval_prompt() for _ in range(repeats)])\n",
    "\n",
    "baseline = [eval_meta_learning(ds, i, 100) for i in tqdm([1,2,3,4,5,10,15,20,30,50])]\n",
    "plt.plot([f1_score(e[:, 0], e[:, 1], average='macro') for e in baseline])\n",
    "plt.show()"
   ]
  },
  {
   "cell_type": "code",
   "execution_count": 25,
   "metadata": {},
   "outputs": [
    {
     "name": "stderr",
     "output_type": "stream",
     "text": [
      "100%|██████████| 9/9 [1:48:29<00:00, 723.27s/it]\n"
     ]
    },
    {
     "data": {
      "image/png": "[encoded data removed]",
      "text/plain": [
       "<Figure size 640x480 with 1 Axes>"
      ]
     },
     "metadata": {},
     "output_type": "display_data"
    }
   ],
   "source": [
    "def eval_linear_model(ds, n, repeats):\n",
    "  def vectorize(train, test, **vecargs):\n",
    "     from sklearn.feature_extraction.text import CountVectorizer\n",
    "     vectorizer = CountVectorizer(strip_accents='unicode', **vecargs)\n",
    "     vectorizer.fit(train)\n",
    "     return vectorizer.transform(train), vectorizer.transform(test)\n",
    "\n",
    "  def train_and_eval_lr():\n",
    "    Y_test = ds[\"test\"][\"label\"]\n",
    "    test   = ds[\"test\"][\"text\"]\n",
    "\n",
    "    for i in range(10): # give it ten tries, otherwise fail\n",
    "      slice   = ds[\"train\"].shuffle()[:n]\n",
    "      Y_train = slice[\"label\"]\n",
    "      train   = slice[\"text\"]\n",
    "      if len(set(Y_train)) == 2:\n",
    "        break\n",
    "\n",
    "      if i == 9:\n",
    "        raise ValueError(\"Could not find a valid training set\")\n",
    "\n",
    "    results = []\n",
    "    for cs in [0.01, 0.02, 0.05, 0.1, 0.2, 0.5, 1, 2, 5, 10]:\n",
    "      for solver in ['lbfgs', 'saga', 'sag']:\n",
    "        for ngc_max in [1, 2, 3, 4]:\n",
    "          for ngw_max in [1, 2]:\n",
    "            word_train, word_test = vectorize(train, test, analyzer='word', max_features=10000, ngram_range=(1, ngw_max), token_pattern=r'\\w{1,}', stop_words='english')\n",
    "            char_train, char_test = vectorize(train, test, analyzer='char', max_features=50000, ngram_range=(1, ngc_max))\n",
    "            X_train = scipy.sparse.hstack([word_train, char_train])\n",
    "            X_test  = scipy.sparse.hstack([word_test, char_test])\n",
    "\n",
    "            lr = sklearn.linear_model.LogisticRegression(C=cs, solver=solver, max_iter=10000)\n",
    "            lr.fit(X_train, Y_train)\n",
    "\n",
    "            Y_pred = lr.predict(X_test)\n",
    "            results.append(f1_score(Y_test, Y_pred, average='macro'))\n",
    "    return max(results)\n",
    "  \n",
    "  return np.mean([train_and_eval_lr() for _ in range(repeats)])\n",
    "\n",
    "linear_learning = [eval_linear_model(ds, i, 100) for i in tqdm([2,3,4,5,10,15,20,30,50])]\n",
    "plt.plot(linear_learning)\n",
    "plt.show()"
   ]
  },
  {
   "cell_type": "markdown",
   "metadata": {},
   "source": [
    "## Experiment 2"
   ]
  },
  {
   "cell_type": "markdown",
   "metadata": {},
   "source": [
    "In this experiment we evaluate whether the model can ICL via linear regression, as suggested by some other authors. To do this we use a prompt and response format that consists of single tokens. We only use the labels from our dataset and we replace each label with a random token."
   ]
  },
  {
   "cell_type": "code",
   "execution_count": 1,
   "metadata": {},
   "outputs": [
    {
     "ename": "NameError",
     "evalue": "name 'model' is not defined",
     "output_type": "error",
     "traceback": [
      "\u001b[0;31m---------------------------------------------------------------------------\u001b[0m",
      "\u001b[0;31mNameError\u001b[0m                                 Traceback (most recent call last)",
      "Cell \u001b[0;32mIn[1], line 1\u001b[0m\n\u001b[0;32m----> 1\u001b[0m CLEAN_TOKENS \u001b[38;5;241m=\u001b[39m [i \u001b[38;5;28;01mfor\u001b[39;00m i \u001b[38;5;129;01min\u001b[39;00m \u001b[38;5;28mrange\u001b[39m(\u001b[43mmodel\u001b[49m\u001b[38;5;241m.\u001b[39mvocab_size) \u001b[38;5;28;01mif\u001b[39;00m \u001b[38;5;28mlen\u001b[39m(tokenizer\u001b[38;5;241m.\u001b[39mencode(tokenizer\u001b[38;5;241m.\u001b[39mdecode(i), add_special_tokens\u001b[38;5;241m=\u001b[39m\u001b[38;5;28;01mFalse\u001b[39;00m)) \u001b[38;5;241m==\u001b[39m \u001b[38;5;241m1\u001b[39m]\n",
      "\u001b[0;31mNameError\u001b[0m: name 'model' is not defined"
     ]
    }
   ],
   "source": [
    "CLEAN_TOKENS = [i for i in range(model.vocab_size) if len(tokenizer.encode(tokenizer.decode(i), add_special_tokens=False)) == 1]"
   ]
  },
  {
   "cell_type": "code",
   "execution_count": 92,
   "metadata": {},
   "outputs": [
    {
     "name": "stderr",
     "output_type": "stream",
     "text": [
      "  0%|          | 0/50 [00:37<?, ?it/s]\n"
     ]
    },
    {
     "ename": "KeyboardInterrupt",
     "evalue": "",
     "output_type": "error",
     "traceback": [
      "\u001b[0;31m---------------------------------------------------------------------------\u001b[0m",
      "\u001b[0;31mKeyboardInterrupt\u001b[0m                         Traceback (most recent call last)",
      "Cell \u001b[0;32mIn[92], line 50\u001b[0m\n\u001b[1;32m     46\u001b[0m     \u001b[38;5;28;01mreturn\u001b[39;00m np\u001b[38;5;241m.\u001b[39marray(result)\n\u001b[1;32m     48\u001b[0m   \u001b[38;5;28;01mreturn\u001b[39;00m np\u001b[38;5;241m.\u001b[39marray([eval_task() \u001b[38;5;28;01mfor\u001b[39;00m _ \u001b[38;5;129;01min\u001b[39;00m tqdm(\u001b[38;5;28mlist\u001b[39m(\u001b[38;5;28mrange\u001b[39m(\u001b[38;5;241m50\u001b[39m)))])\n\u001b[0;32m---> 50\u001b[0m x \u001b[38;5;241m=\u001b[39m \u001b[43meval_linear_meta_learning\u001b[49m\u001b[43m(\u001b[49m\u001b[43m[\u001b[49m\u001b[38;5;124;43m\"\u001b[39;49m\u001b[38;5;124;43mpositive\u001b[39;49m\u001b[38;5;124;43m\"\u001b[39;49m\u001b[43m,\u001b[49m\u001b[43m \u001b[49m\u001b[38;5;124;43m\"\u001b[39;49m\u001b[38;5;124;43mnegative\u001b[39;49m\u001b[38;5;124;43m\"\u001b[39;49m\u001b[43m]\u001b[49m\u001b[43m)\u001b[49m\n\u001b[1;32m     51\u001b[0m x\n",
      "Cell \u001b[0;32mIn[92], line 48\u001b[0m, in \u001b[0;36meval_linear_meta_learning\u001b[0;34m(options, L, repeats)\u001b[0m\n\u001b[1;32m     45\u001b[0m     result\u001b[38;5;241m.\u001b[39mappend((x_test, y_llm, y_lr))\n\u001b[1;32m     46\u001b[0m   \u001b[38;5;28;01mreturn\u001b[39;00m np\u001b[38;5;241m.\u001b[39marray(result)\n\u001b[0;32m---> 48\u001b[0m \u001b[38;5;28;01mreturn\u001b[39;00m np\u001b[38;5;241m.\u001b[39marray([\u001b[43meval_task\u001b[49m\u001b[43m(\u001b[49m\u001b[43m)\u001b[49m \u001b[38;5;28;01mfor\u001b[39;00m _ \u001b[38;5;129;01min\u001b[39;00m tqdm(\u001b[38;5;28mlist\u001b[39m(\u001b[38;5;28mrange\u001b[39m(\u001b[38;5;241m50\u001b[39m)))])\n",
      "Cell \u001b[0;32mIn[92], line 43\u001b[0m, in \u001b[0;36meval_linear_meta_learning.<locals>.eval_task\u001b[0;34m()\u001b[0m\n\u001b[1;32m     41\u001b[0m \u001b[38;5;28;01mfor\u001b[39;00m _ \u001b[38;5;129;01min\u001b[39;00m \u001b[38;5;28mrange\u001b[39m(repeats):\n\u001b[1;32m     42\u001b[0m   X, x_test \u001b[38;5;241m=\u001b[39m prepare_task()\n\u001b[0;32m---> 43\u001b[0m   y_llm     \u001b[38;5;241m=\u001b[39m \u001b[43meval_llm\u001b[49m\u001b[43m(\u001b[49m\u001b[43mX\u001b[49m\u001b[43m,\u001b[49m\u001b[43m \u001b[49m\u001b[43mx_test\u001b[49m\u001b[43m,\u001b[49m\u001b[43m \u001b[49m\u001b[43mlabels\u001b[49m\u001b[43m)\u001b[49m\n\u001b[1;32m     44\u001b[0m   y_lr      \u001b[38;5;241m=\u001b[39m eval_lr(X, x_test, labels)\n\u001b[1;32m     45\u001b[0m   result\u001b[38;5;241m.\u001b[39mappend((x_test, y_llm, y_lr))\n",
      "Cell \u001b[0;32mIn[92], line 19\u001b[0m, in \u001b[0;36meval_linear_meta_learning.<locals>.eval_llm\u001b[0;34m(X, x_test, labels)\u001b[0m\n\u001b[1;32m     17\u001b[0m logits \u001b[38;5;241m=\u001b[39m model(mx\u001b[38;5;241m.\u001b[39marray(tokenizer\u001b[38;5;241m.\u001b[39mencode(prompt))[\u001b[38;5;28;01mNone\u001b[39;00m])\n\u001b[1;32m     18\u001b[0m outids \u001b[38;5;241m=\u001b[39m [tokenizer\u001b[38;5;241m.\u001b[39mencode(o, add_special_tokens\u001b[38;5;241m=\u001b[39m\u001b[38;5;28;01mFalse\u001b[39;00m)[\u001b[38;5;241m0\u001b[39m] \u001b[38;5;28;01mfor\u001b[39;00m o \u001b[38;5;129;01min\u001b[39;00m options]\n\u001b[0;32m---> 19\u001b[0m \u001b[38;5;28;01mreturn\u001b[39;00m \u001b[43mmx\u001b[49m\u001b[38;5;241;43m.\u001b[39;49m\u001b[43margmax\u001b[49m\u001b[43m(\u001b[49m\u001b[43mlogits\u001b[49m\u001b[43m[\u001b[49m\u001b[38;5;241;43m0\u001b[39;49m\u001b[43m,\u001b[49m\u001b[43m \u001b[49m\u001b[38;5;241;43m-\u001b[39;49m\u001b[38;5;241;43m1\u001b[39;49m\u001b[43m,\u001b[49m\u001b[43m \u001b[49m\u001b[43moutids\u001b[49m\u001b[43m]\u001b[49m\u001b[43m)\u001b[49m\u001b[38;5;241;43m.\u001b[39;49m\u001b[43mitem\u001b[49m\u001b[43m(\u001b[49m\u001b[43m)\u001b[49m\n",
      "\u001b[0;31mKeyboardInterrupt\u001b[0m: "
     ]
    }
   ],
   "source": [
    "def eval_linear_meta_learning(options, L=32, repeats=100):\n",
    "  def prepare_task():\n",
    "    X      = [random.randint(0, len(options) - 1) for _ in range(L)]\n",
    "    x_test = random.randint(0, len(options) - 1)\n",
    "    return X, x_test\n",
    "\n",
    "  def eval_llm(X, x_test, labels):\n",
    "    ltexts = [tokenizer.decode(l) for l in labels]\n",
    "    prompt = \"\"\n",
    "    for x in X:\n",
    "      prompt += f\"Review: {options[x]}\\n\"\n",
    "      prompt += f\"Sentiment: {ltexts[x]}\\n\"\n",
    "\n",
    "    prompt += f\"Review: {options[x_test]}\\n\"\n",
    "    prompt += f\"Sentiment: \"\n",
    "\n",
    "    logits = model(mx.array(tokenizer.encode(prompt))[None])\n",
    "    outids = [tokenizer.encode(o, add_special_tokens=False)[0] for o in options]\n",
    "    return mx.argmax(logits[0, -1, outids]).item()\n",
    "\n",
    "  def eval_lr(X, x_test, labels, num_epochs=80, lr=1000):\n",
    "    P = model.embed_tokens(mx.array([labels[x] for x in X]))\n",
    "    R = model.embed_tokens(mx.array([tokenizer.encode(options[x], add_special_tokens=False)[0] for x in X]))\n",
    "\n",
    "    linear       = nn.Linear(model.hidden_size, model.hidden_size)\n",
    "    optimizer    = optim.SGD(learning_rate=lr)\n",
    "    loss_grad_fn = nn.value_and_grad(linear, lambda m, P, R: mx.mean((m(P) - R) ** 2))\n",
    "\n",
    "    for _ in range(num_epochs):\n",
    "      loss, grads = loss_grad_fn(linear, P, R)\n",
    "      optimizer.update(linear, grads)\n",
    "      mx.eval(linear.parameters(), optimizer.state)\n",
    "\n",
    "    p_test = model.embed_tokens.weight[labels[x_test]]\n",
    "    r_star = np.array(linear(p_test))\n",
    "    return X[np.argmax(np.dot(r_star, np.array(R).T))]\n",
    "\n",
    "  def eval_task():\n",
    "    result = []\n",
    "    labels = random.sample(CLEAN_TOKENS, len(options))\n",
    "    for _ in range(repeats):\n",
    "      X, x_test = prepare_task()\n",
    "      y_llm     = eval_llm(X, x_test, labels)\n",
    "      y_lr      = eval_lr(X, x_test, labels)\n",
    "      result.append((x_test, y_llm, y_lr))\n",
    "    return np.array(result)\n",
    "  \n",
    "  return np.array([eval_task() for _ in tqdm(list(range(50)))])\n",
    "\n",
    "x = eval_linear_meta_learning([\"positive\", \"negative\"])\n",
    "x\n"
   ]
  },
  {
   "cell_type": "markdown",
   "metadata": {},
   "source": [
    "## Structured Task Hypothesis"
   ]
  },
  {
   "cell_type": "markdown",
   "metadata": {},
   "source": [
    "## Experiment 1\n",
    "\n",
    "evaluate the correlation between eval_task_selection and eval_meta_learning. this is predicted to be high if task is learned by composition"
   ]
  },
  {
   "cell_type": "code",
   "execution_count": null,
   "metadata": {},
   "outputs": [],
   "source": []
  },
  {
   "cell_type": "markdown",
   "metadata": {},
   "source": [
    "## Experiment 2\n",
    "\n",
    "construct natural mappings, that are likely to have occurred in the training. that is rather than picking random labels, we choose: synonyms, antonyms and keywords from the relevant domain"
   ]
  },
  {
   "cell_type": "code",
   "execution_count": 104,
   "metadata": {},
   "outputs": [
    {
     "name": "stderr",
     "output_type": "stream",
     "text": [
      "100%|██████████| 10/10 [00:31<00:00,  3.18s/it]\n"
     ]
    },
    {
     "data": {
      "text/plain": [
       "array([[[0, 0],\n",
       "        [0, 0],\n",
       "        [0, 0],\n",
       "        [1, 1],\n",
       "        [1, 1],\n",
       "        [0, 0],\n",
       "        [1, 1],\n",
       "        [0, 0],\n",
       "        [0, 0],\n",
       "        [0, 0],\n",
       "        [0, 0],\n",
       "        [1, 0],\n",
       "        [0, 0],\n",
       "        [1, 1],\n",
       "        [1, 1]],\n",
       "\n",
       "       [[1, 1],\n",
       "        [1, 1],\n",
       "        [0, 0],\n",
       "        [1, 1],\n",
       "        [0, 0],\n",
       "        [1, 1],\n",
       "        [1, 0],\n",
       "        [0, 0],\n",
       "        [0, 0],\n",
       "        [1, 1],\n",
       "        [0, 0],\n",
       "        [1, 1],\n",
       "        [1, 1],\n",
       "        [0, 0],\n",
       "        [0, 0]],\n",
       "\n",
       "       [[0, 0],\n",
       "        [0, 0],\n",
       "        [0, 0],\n",
       "        [0, 0],\n",
       "        [0, 0],\n",
       "        [0, 0],\n",
       "        [1, 1],\n",
       "        [1, 0],\n",
       "        [1, 1],\n",
       "        [0, 0],\n",
       "        [0, 0],\n",
       "        [0, 0],\n",
       "        [1, 1],\n",
       "        [0, 0],\n",
       "        [0, 0]],\n",
       "\n",
       "       [[1, 1],\n",
       "        [0, 0],\n",
       "        [1, 1],\n",
       "        [1, 1],\n",
       "        [1, 1],\n",
       "        [0, 0],\n",
       "        [0, 0],\n",
       "        [0, 0],\n",
       "        [0, 0],\n",
       "        [0, 0],\n",
       "        [0, 0],\n",
       "        [1, 0],\n",
       "        [0, 0],\n",
       "        [1, 1],\n",
       "        [0, 0]],\n",
       "\n",
       "       [[0, 0],\n",
       "        [0, 0],\n",
       "        [0, 0],\n",
       "        [0, 0],\n",
       "        [0, 0],\n",
       "        [0, 0],\n",
       "        [1, 1],\n",
       "        [0, 0],\n",
       "        [0, 0],\n",
       "        [0, 0],\n",
       "        [1, 1],\n",
       "        [0, 0],\n",
       "        [1, 1],\n",
       "        [0, 0],\n",
       "        [0, 0]],\n",
       "\n",
       "       [[0, 0],\n",
       "        [0, 0],\n",
       "        [1, 1],\n",
       "        [1, 1],\n",
       "        [1, 1],\n",
       "        [0, 0],\n",
       "        [1, 0],\n",
       "        [0, 0],\n",
       "        [0, 0],\n",
       "        [1, 1],\n",
       "        [1, 1],\n",
       "        [1, 0],\n",
       "        [1, 1],\n",
       "        [0, 0],\n",
       "        [1, 1]],\n",
       "\n",
       "       [[0, 0],\n",
       "        [0, 0],\n",
       "        [1, 1],\n",
       "        [0, 0],\n",
       "        [0, 0],\n",
       "        [1, 1],\n",
       "        [0, 0],\n",
       "        [0, 0],\n",
       "        [0, 0],\n",
       "        [1, 1],\n",
       "        [0, 0],\n",
       "        [0, 0],\n",
       "        [1, 1],\n",
       "        [1, 0],\n",
       "        [0, 0]],\n",
       "\n",
       "       [[1, 0],\n",
       "        [1, 1],\n",
       "        [0, 0],\n",
       "        [1, 1],\n",
       "        [0, 0],\n",
       "        [0, 0],\n",
       "        [1, 1],\n",
       "        [0, 0],\n",
       "        [0, 0],\n",
       "        [1, 1],\n",
       "        [0, 0],\n",
       "        [0, 0],\n",
       "        [1, 1],\n",
       "        [0, 0],\n",
       "        [0, 0]],\n",
       "\n",
       "       [[1, 1],\n",
       "        [1, 1],\n",
       "        [0, 0],\n",
       "        [1, 1],\n",
       "        [1, 1],\n",
       "        [0, 0],\n",
       "        [1, 1],\n",
       "        [1, 0],\n",
       "        [0, 0],\n",
       "        [0, 0],\n",
       "        [1, 1],\n",
       "        [0, 0],\n",
       "        [1, 1],\n",
       "        [1, 1],\n",
       "        [0, 0]],\n",
       "\n",
       "       [[0, 0],\n",
       "        [1, 1],\n",
       "        [0, 0],\n",
       "        [0, 0],\n",
       "        [1, 1],\n",
       "        [1, 1],\n",
       "        [1, 1],\n",
       "        [1, 1],\n",
       "        [0, 0],\n",
       "        [0, 0],\n",
       "        [0, 0],\n",
       "        [0, 0],\n",
       "        [0, 0],\n",
       "        [1, 1],\n",
       "        [0, 0]]])"
      ]
     },
     "execution_count": 104,
     "metadata": {},
     "output_type": "execute_result"
    }
   ],
   "source": [
    "def eval_prompt_mapping(ds, mapping, num_tasks, repeats, n=5, additional=None):\n",
    "  def make_task_mapper():\n",
    "    task = { l: random.choice(mapping[l]) for l in ds.labels }\n",
    "    return lambda p, r: task[r]\n",
    "\n",
    "  results = []\n",
    "  for _ in tqdm(list(range(num_tasks))):\n",
    "    mapper = make_task_mapper()\n",
    "    epoch  = []\n",
    "    for _ in range(repeats):\n",
    "      prompt, label = ds.build_prompt(n, map_prompt=mapper)\n",
    "\n",
    "      expected = ds.mapped_labels(mapping).index(label)\n",
    "      logits   = model(mx.array(tokenizer.encode(prompt))[None])[0, -1, ds.label_tokens(mapping)]\n",
    "      actual   = mx.argmax(logits).item()\n",
    "\n",
    "      epoch.append((expected, actual))\n",
    "    results.append(epoch)\n",
    "  return np.array(results)"
   ]
  },
  {
   "cell_type": "code",
   "execution_count": 108,
   "metadata": {},
   "outputs": [
    {
     "name": "stderr",
     "output_type": "stream",
     "text": [
      "100%|██████████| 50/50 [26:34<00:00, 31.89s/it]\n",
      "100%|██████████| 50/50 [23:30<00:00, 28.21s/it]\n"
     ]
    }
   ],
   "source": [
    "CR_random_results   = eval_prompt_mapping({ \"negative\": CLEAN_TOKENS, \"positive\": CLEAN_TOKENS }, 50, 100)\n",
    "CR_keywords_results = eval_prompt_mapping(CR_keywords, 50, 100)"
   ]
  },
  {
   "cell_type": "code",
   "execution_count": 109,
   "metadata": {},
   "outputs": [],
   "source": [
    "CR_random_scores   = np.array([f1_score(CR_random_results[:, i, 0], CR_random_results[:, i, 1], average='macro') for i in range(CR_random_results.shape[1])])\n",
    "CR_keywords_scores = np.array([f1_score(CR_keywords_results[:, i, 0], CR_keywords_results[:, i, 1], average='macro') for i in range(CR_keywords_results.shape[1])])\n"
   ]
  },
  {
   "cell_type": "code",
   "execution_count": 111,
   "metadata": {},
   "outputs": [
    {
     "data": {
      "image/png": "[encoded data removed]",
      "text/plain": [
       "<Figure size 640x480 with 1 Axes>"
      ]
     },
     "metadata": {},
     "output_type": "display_data"
    }
   ],
   "source": [
    "plt.hist(CR_random_scores)\n",
    "plt.show()"
   ]
  },
  {
   "cell_type": "code",
   "execution_count": 113,
   "metadata": {},
   "outputs": [
    {
     "data": {
      "text/plain": [
       "(np.float64(0.6576944067154148), np.float64(0.004760197819399048))"
      ]
     },
     "execution_count": 113,
     "metadata": {},
     "output_type": "execute_result"
    }
   ],
   "source": [
    "np.mean(CR_random_scores), np.var(CR_random_scores)"
   ]
  },
  {
   "cell_type": "code",
   "execution_count": 112,
   "metadata": {},
   "outputs": [
    {
     "data": {
      "image/png": "[encoded data removed]",
      "text/plain": [
       "<Figure size 640x480 with 1 Axes>"
      ]
     },
     "metadata": {},
     "output_type": "display_data"
    }
   ],
   "source": [
    "plt.hist(CR_keywords_scores)\n",
    "plt.show()"
   ]
  },
  {
   "cell_type": "code",
   "execution_count": 114,
   "metadata": {},
   "outputs": [
    {
     "data": {
      "text/plain": [
       "(np.float64(0.9455639461754413), np.float64(0.0009942646013466345))"
      ]
     },
     "execution_count": 114,
     "metadata": {},
     "output_type": "execute_result"
    }
   ],
   "source": [
    "np.mean(CR_keywords_scores), np.var(CR_keywords_scores)"
   ]
  },
  {
   "cell_type": "markdown",
   "metadata": {},
   "source": [
    "## Experiment 3\n",
    "\n",
    "construct mappings that seem arbitrary, but are still likely to be part of the training set. we do this by defining a hierachy of mappings based on successive levels of synonyms"
   ]
  },
  {
   "cell_type": "code",
   "execution_count": 127,
   "metadata": {},
   "outputs": [],
   "source": [
    "def build_synonym_hierachy(initials, depth, breadth=10):\n",
    "  def first_n_unique(items, n):\n",
    "    seen = set()\n",
    "    return [x for x in items if not (x in seen or seen.add(x))][:n]\n",
    "\n",
    "  from PyMultiDictionary import MultiDictionary\n",
    "  dictionary = MultiDictionary()\n",
    "\n",
    "  result = { o: [] for o in initials }\n",
    "  for o in initials:\n",
    "    current = [o]\n",
    "    for _ in range(depth):\n",
    "      existing   = set(current).union(set(sum(result[o], [])))\n",
    "      candidates = sum([list(set(dictionary.synonym(\"en\", c)) - existing) for c in current], [])\n",
    "      current    = first_n_unique(sorted(candidates, key=lambda x: candidates.count(x), reverse=True), breadth)\n",
    "      result[o].append(current)\n",
    "  return result"
   ]
  },
  {
   "cell_type": "code",
   "execution_count": 129,
   "metadata": {},
   "outputs": [
    {
     "name": "stderr",
     "output_type": "stream",
     "text": [
      "100%|██████████| 50/50 [18:52<00:00, 22.65s/it]\n",
      "100%|██████████| 50/50 [18:40<00:00, 22.42s/it]t]\n",
      "100%|██████████| 50/50 [18:48<00:00, 22.57s/it]t]\n",
      "100%|██████████| 50/50 [19:05<00:00, 22.91s/it]  \n",
      "100%|██████████| 50/50 [19:07<00:00, 22.94s/it]t]\n",
      "100%|██████████| 50/50 [19:07<00:00, 22.94s/it]t]\n",
      "100%|██████████| 6/6 [1:53:42<00:00, 1137.05s/it]\n"
     ]
    },
    {
     "data": {
      "text/plain": [
       "array([[0.89665151, 0.85858586, 0.83579639, 0.85720114, 0.83001457,\n",
       "        0.8389694 , 0.89995998, 0.81992797, 0.91883117, 0.83766234,\n",
       "        0.9194847 , 0.92      , 0.95833333, 0.85720114, 0.91319444,\n",
       "        0.87922705, 0.8389694 , 0.93939394, 0.8989899 , 0.95941558,\n",
       "        0.87922705, 0.88      , 0.89010989, 0.85531211, 0.85994398,\n",
       "        0.8996387 , 0.85949418, 0.81992797, 0.93997599, 0.85994398,\n",
       "        0.91789819, 0.89665151, 0.79967949, 0.77991196, 0.84615385,\n",
       "        0.85994398, 0.93799091, 0.89665151, 0.87980769, 0.87684729,\n",
       "        0.91883117, 0.87922705, 0.81992797, 0.77263332, 0.87922705,\n",
       "        0.91789819, 0.85949418, 0.86666667, 0.80952381, 0.86213235,\n",
       "        0.93880049, 0.84984985, 0.8989899 , 0.9194847 , 0.91789819,\n",
       "        0.87922705, 0.8996387 , 0.8989899 , 0.88312295, 0.85994398,\n",
       "        0.91087344, 0.79871176, 0.84984985, 0.88312295, 0.85720114,\n",
       "        0.84615385, 0.79474548, 0.875     , 0.83333333, 0.81992797,\n",
       "        0.81992797, 0.93939394, 0.87922705, 0.8996387 , 0.91987179,\n",
       "        0.85858586, 0.89010989, 0.87266553, 0.91987179, 0.93997599,\n",
       "        0.8960499 , 0.79967949, 0.89274989, 0.77920514, 0.91987179,\n",
       "        0.89800082, 0.91511036, 0.87922705, 0.89491383, 0.87824675,\n",
       "        0.9194847 , 0.89010989, 0.95833333, 0.93564994, 0.85994398,\n",
       "        0.8989899 , 0.89995998, 0.89995998, 0.87824675, 0.86213235],\n",
       "       [0.87266553, 0.84984985, 0.84      , 0.83333333, 0.85858586,\n",
       "        0.93997599, 0.85858586, 0.87824675, 0.79967949, 0.96      ,\n",
       "        0.84170059, 0.81992797, 0.85287936, 0.87824675, 0.91511036,\n",
       "        0.8996387 , 0.8389694 , 0.85949418, 0.81617647, 0.83974359,\n",
       "        0.89995998, 0.9194847 , 0.81084489, 0.79871176, 0.87684729,\n",
       "        0.85720114, 0.91883117, 0.93880049, 0.85287936, 0.79474548,\n",
       "        0.85949418, 0.87980769, 0.81617647, 0.8389694 , 0.81818182,\n",
       "        0.79871176, 0.88      , 0.91987179, 0.87824675, 0.8389694 ,\n",
       "        0.85949418, 0.86979167, 0.93939394, 0.81818182, 0.875     ,\n",
       "        0.8       , 0.87922705, 0.77920514, 0.81818182, 0.89800082,\n",
       "        0.81640147, 0.87266553, 0.80952381, 0.77263332, 0.85531211,\n",
       "        0.87824675, 0.85949418, 0.875     , 0.85994398, 0.91789819,\n",
       "        0.87824675, 0.91987179, 0.81397272, 0.79474548, 0.89800082,\n",
       "        0.91987179, 0.87922705, 0.85287936, 0.87684729, 0.91087344,\n",
       "        0.91319444, 0.8996387 , 0.95755518, 0.91987179, 0.85949418,\n",
       "        0.89491383, 0.83974359, 0.87980769, 0.8996387 , 0.83974359,\n",
       "        0.81818182, 0.79967949, 0.8021978 , 0.85531211, 0.81084489,\n",
       "        0.88      , 0.8996387 , 0.8996387 , 0.89010989, 0.8996387 ,\n",
       "        0.85858586, 0.78777589, 0.83974359, 0.83766234, 0.91087344,\n",
       "        0.85994398, 0.86979167, 0.84615385, 0.88      , 0.8389694 ],\n",
       "       [0.8989899 , 0.96      , 0.87824675, 0.89491383, 0.85720114,\n",
       "        0.93880049, 0.93799091, 0.93215739, 0.88      , 0.92      ,\n",
       "        0.89665151, 0.93997599, 0.89995998, 0.8989899 , 0.9194847 ,\n",
       "        0.94802495, 0.85994398, 0.875     , 0.93880049, 0.95974235,\n",
       "        0.96      , 0.8996387 , 0.87922705, 0.93997599, 0.91883117,\n",
       "        0.93939394, 0.8989899 , 0.90079365, 0.88      , 0.9194847 ,\n",
       "        0.8989899 , 0.8989899 , 0.93978322, 0.91883117, 0.9369483 ,\n",
       "        0.89010989, 0.85994398, 0.85287936, 0.85531211, 0.8996387 ,\n",
       "        0.85858586, 0.93564994, 0.87824675, 0.91789819, 0.91511036,\n",
       "        0.95941558, 0.93406593, 0.93406593, 0.8989899 , 0.87684729,\n",
       "        0.9194847 , 0.83022071, 0.85287936, 0.89010989, 0.9194847 ,\n",
       "        0.85858586, 0.9194847 , 0.9589491 , 0.8996387 , 0.91789819,\n",
       "        0.86979167, 0.92      , 0.97979798, 0.9194847 , 0.89995998,\n",
       "        0.9194847 , 0.93978322, 0.91883117, 0.83974359, 0.93978322,\n",
       "        0.88692899, 0.93997599, 0.9369483 , 0.95974235, 0.85858586,\n",
       "        0.81084489, 0.89274989, 0.85994398, 0.9194847 , 0.93880049,\n",
       "        0.95941558, 0.95659722, 0.89800082, 0.91883117, 0.91511036,\n",
       "        0.85720114, 0.91987179, 0.8996387 , 0.89800082, 0.89665151,\n",
       "        0.93997599, 0.8989899 , 0.85858586, 0.92      , 0.9589491 ,\n",
       "        0.93799091, 0.9599359 , 0.9599359 , 0.91883117, 0.9589491 ],\n",
       "       [0.9369483 , 0.85714286, 0.93799091, 0.9599359 , 0.9589491 ,\n",
       "        0.89995998, 0.93799091, 0.91987179, 0.92      , 0.87980769,\n",
       "        0.9369483 , 0.83022071, 0.91987179, 0.87922705, 0.93880049,\n",
       "        0.8996387 , 0.88      , 0.93799091, 0.8996387 , 0.95543672,\n",
       "        0.95941558, 0.84      , 0.97854998, 0.93799091, 0.93997599,\n",
       "        0.95974235, 1.        , 0.89995998, 0.95941558, 0.9369483 ,\n",
       "        0.88      , 0.9194847 , 0.9599359 , 0.87922705, 0.8996387 ,\n",
       "        0.91987179, 0.91987179, 0.87980769, 0.83974359, 0.87824675,\n",
       "        0.91987179, 0.91987179, 0.95941558, 0.91666667, 0.93997599,\n",
       "        0.93880049, 0.89274989, 0.91319444, 0.91319444, 0.87824675,\n",
       "        0.87684729, 0.93997599, 0.92      , 0.8996387 , 0.93880049,\n",
       "        0.95755518, 0.97802198, 0.91511036, 0.89995998, 0.95543672,\n",
       "        1.        , 0.8996387 , 0.8996387 , 0.95941558, 0.93978322,\n",
       "        0.85858586, 0.875     , 0.85994398, 0.89491383, 0.89665151,\n",
       "        0.95974235, 0.8989899 , 0.93939394, 0.8996387 , 0.87980769,\n",
       "        0.91883117, 0.8989899 , 0.8996387 , 0.97898277, 0.8996387 ,\n",
       "        0.9599359 , 0.91987179, 0.9194847 , 0.9599359 , 0.87980769,\n",
       "        0.89800082, 0.87684729, 0.89995998, 0.8989899 , 0.93978322,\n",
       "        0.89274989, 0.93939394, 0.93880049, 0.89491383, 0.93880049,\n",
       "        0.95833333, 0.8989899 , 0.979992  , 0.91666667, 0.91987179],\n",
       "       [0.9589491 , 0.9773858 , 0.89274989, 0.93564994, 0.9589491 ,\n",
       "        0.93997599, 0.93939394, 0.93799091, 0.9793303 , 0.95543672,\n",
       "        0.95974235, 0.92      , 0.94802495, 0.93880049, 0.95543672,\n",
       "        0.9793303 , 0.93939394, 0.93880049, 0.95941558, 0.93978322,\n",
       "        0.93997599, 0.97898277, 0.93880049, 0.93978322, 1.        ,\n",
       "        0.93564994, 0.9599359 , 0.93978322, 0.91666667, 0.97979798,\n",
       "        0.9599359 , 0.95941558, 0.96      , 0.96      , 1.        ,\n",
       "        0.97979798, 0.93939394, 1.        , 0.96      , 1.        ,\n",
       "        0.93880049, 0.9599359 , 0.93997599, 0.95974235, 0.95974235,\n",
       "        0.96      , 0.93978322, 0.9599359 , 0.979992  , 0.96      ,\n",
       "        0.95833333, 0.9589491 , 0.91883117, 0.97960016, 0.96      ,\n",
       "        0.93978322, 1.        , 0.93997599, 0.93880049, 0.87922705,\n",
       "        0.93880049, 1.        , 0.95755518, 0.9194847 , 0.97992774,\n",
       "        0.9194847 , 0.93880049, 1.        , 1.        , 0.9599359 ,\n",
       "        0.95974235, 0.91511036, 0.97992774, 0.9599359 , 0.96      ,\n",
       "        0.97898277, 0.93215739, 0.979992  , 0.92      , 0.93880049,\n",
       "        0.91987179, 0.9369483 , 0.979992  , 0.9194847 , 0.97854998,\n",
       "        0.89800082, 0.9194847 , 0.97898277, 0.97854998, 0.95974235,\n",
       "        0.95941558, 0.9793303 , 0.95833333, 0.95755518, 0.91789819,\n",
       "        0.95974235, 0.97979798, 0.91987179, 0.93564994, 0.9793303 ],\n",
       "       [0.86213235, 0.87824675, 0.78962132, 0.8996387 , 0.81934966,\n",
       "        0.76404976, 0.71590909, 0.79474548, 0.81934966, 0.78298611,\n",
       "        0.75649351, 0.85949418, 0.85994398, 0.73989596, 0.79474548,\n",
       "        0.81992797, 0.77777778, 0.78777589, 0.78962132, 0.83974359,\n",
       "        0.83333333, 0.83766234, 0.81084489, 0.82174688, 0.85720114,\n",
       "        0.83333333, 0.86213235, 0.79967949, 0.78962132, 0.77991196,\n",
       "        0.83022071, 0.83022071, 0.72      , 0.86979167, 0.79474548,\n",
       "        0.81818182, 0.84170059, 0.81397272, 0.85287936, 0.84984985,\n",
       "        0.77777778, 0.78777589, 0.75      , 0.82638889, 0.85531211,\n",
       "        0.71428571, 0.83579639, 0.85531211, 0.87980769, 0.78298611,\n",
       "        0.88      , 0.83766234, 0.87858184, 0.79474548, 0.79707792,\n",
       "        0.80694981, 0.82638889, 0.81818182, 0.79707792, 0.84615385,\n",
       "        0.82638889, 0.77920514, 0.81934966, 0.76881042, 0.73480212,\n",
       "        0.82174688, 0.82174688, 0.80694981, 0.79209979, 0.82638889,\n",
       "        0.85858586, 0.73989596, 0.77991196, 0.76404976, 0.8389694 ,\n",
       "        0.81818182, 0.7428705 , 0.91511036, 0.79707792, 0.73737374,\n",
       "        0.81617647, 0.83579639, 0.73958333, 0.83022071, 0.8021978 ,\n",
       "        0.79707792, 0.78298611, 0.77991196, 0.81818182, 0.78777589,\n",
       "        0.75845411, 0.81084489, 0.7428705 , 0.77263332, 0.83022071,\n",
       "        0.81640147, 0.81640147, 0.82638889, 0.7756018 , 0.87922705]])"
      ]
     },
     "execution_count": 129,
     "metadata": {},
     "output_type": "execute_result"
    }
   ],
   "source": [
    "def evaluate_synomym_hierachy(ds_name, depth, num_tasks, repeats, L=5):\n",
    "  ds       = Dataset.load(ds_name)\n",
    "  hierachy = build_synonym_hierachy(ds.labels, depth)\n",
    "  result   = []\n",
    "  for i in tqdm(list(range(depth))):\n",
    "    mapping    = { l: hierachy[l][i] for l in ds.labels }\n",
    "    evaluation = eval_prompt_mapping(mapping, num_tasks, repeats)\n",
    "    scores     = np.array([f1_score(evaluation[:, i, 0], evaluation[:, i, 1], average='macro') for i in range(evaluation.shape[1])])\n",
    "    result.append(scores)\n",
    "  return np.array(result)\n",
    "x = evaluate_synomym_hierachy(\"CR\", 6, 50, 100)\n",
    "x"
   ]
  },
  {
   "cell_type": "code",
   "execution_count": null,
   "metadata": {},
   "outputs": [],
   "source": []
  }
 ],
 "metadata": {
  "kernelspec": {
   "display_name": "openttd",
   "language": "python",
   "name": "python3"
  },
  "language_info": {
   "codemirror_mode": {
    "name": "ipython",
    "version": 3
   },
   "file_extension": ".py",
   "mimetype": "text/x-python",
   "name": "python",
   "nbconvert_exporter": "python",
   "pygments_lexer": "ipython3",
   "version": "3.12.2"
  }
 },
 "nbformat": 4,
 "nbformat_minor": 2
}
